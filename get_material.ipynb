{
 "cells": [
  {
   "cell_type": "code",
   "execution_count": 1,
   "metadata": {},
   "outputs": [
    {
     "name": "stdout",
     "output_type": "stream",
     "text": [
      "12\n"
     ]
    }
   ],
   "source": [
    "f = open(\"index.html\", \"r\", encoding=\"utf-8\")\n",
    "html = f.readlines()\n",
    "# print(html)\n",
    "content = [x for x in html if len(x)>1000]\n",
    "print(len(content))"
   ]
  },
  {
   "cell_type": "code",
   "execution_count": 2,
   "metadata": {},
   "outputs": [],
   "source": [
    "content_str = \"\".join(content)\n",
    "content_str = content_str.replace(\"<br>\", \"\\n\")"
   ]
  },
  {
   "cell_type": "code",
   "execution_count": 3,
   "metadata": {},
   "outputs": [],
   "source": [
    "class Effect:\n",
    "    def __init__(self, name, index, value, materials: list[str]):\n",
    "        self.name = name\n",
    "        self.index = index\n",
    "        self.value = int(value)\n",
    "        self.materials = materials # materials name\n",
    "\n",
    "class Material:\n",
    "    def __init__(self, name, effects) -> None:\n",
    "        self.name = name\n",
    "        self.effects = [int(x) for x in effects] # 4 effects index"
   ]
  },
  {
   "cell_type": "code",
   "execution_count": 4,
   "metadata": {},
   "outputs": [],
   "source": [
    "import re\n",
    "split_index = content_str.find(\"以下是：属性找材料\")\n",
    "content_material = content_str[:split_index]\n",
    "content_effect = content_str[split_index:]"
   ]
  },
  {
   "cell_type": "code",
   "execution_count": 5,
   "metadata": {},
   "outputs": [
    {
     "name": "stdout",
     "output_type": "stream",
     "text": [
      "220\n"
     ]
    }
   ],
   "source": [
    "match_matierals = re.split(r'<span class=\"color-l?blue-0[34]\">\\s*([^（]{0,10})（', content_material)[1:] # name, content\n",
    "match_effects = re.split(r'（(\\d+)）\\s*(?:(?:<\\/span>)?<span class=\"color-default font-size-23\">\\s*)?([^￥]{0,14})￥(\\d+)', content_effect)[1:] # index, name, value, content\n",
    "# print(match_matierals)\n",
    "# print(\"EndHere\\n\".join(match_effects))\n",
    "print(len(match_effects))"
   ]
  },
  {
   "cell_type": "code",
   "execution_count": 6,
   "metadata": {},
   "outputs": [],
   "source": [
    "material_list = []\n",
    "for i in range(len(match_matierals)//2):\n",
    "    name = match_matierals[i*2]\n",
    "    content = match_matierals[i*2+1]\n",
    "    effects = re.findall(r'（(\\d+)）', content)\n",
    "    material_list.append(Material(name, effects))"
   ]
  },
  {
   "cell_type": "code",
   "execution_count": 7,
   "metadata": {},
   "outputs": [],
   "source": [
    "effects_list = [0] * 60\n",
    "for i in range(len(match_effects)//4):\n",
    "    index = match_effects[i*4]\n",
    "    name = match_effects[i*4+1]\n",
    "    value = match_effects[i*4+2]\n",
    "    content = match_effects[i*4+3]\n",
    "    materials = re.findall(r'<span class=\"color-l?blue-0[34]\">\\s*([^（]{0,10})（', content)\n",
    "    effects_list[int(index)] = Effect(name, index, value, materials)"
   ]
  },
  {
   "cell_type": "code",
   "execution_count": 8,
   "metadata": {},
   "outputs": [],
   "source": [
    "with open(\"Effects.txt\", \"w\") as f:\n",
    "    for effect in effects_list:\n",
    "        if isinstance(effect, Effect):\n",
    "            f.write(f\"{effect.name}\\n{effect.index}\\n{effect.value}\\n{effect.materials}\\n\\n\")\n",
    "\n",
    "with open(\"Materials.txt\", \"w\") as f:\n",
    "    for material in material_list:\n",
    "        f.write(f\"{material.name}\\n{material.effects}\\n\\n\")"
   ]
  },
  {
   "cell_type": "markdown",
   "metadata": {},
   "source": [
    "---\n"
   ]
  },
  {
   "cell_type": "code",
   "execution_count": 9,
   "metadata": {},
   "outputs": [],
   "source": [
    "class Recipe:\n",
    "    def __value(self):\n",
    "        value = 0\n",
    "        for x in self.effects:\n",
    "                if isinstance(effects_list[x],Effect):\n",
    "                    value += effects_list[x].value\n",
    "                else:\n",
    "                    print(f\"Int Error!{x}\")\n",
    "        return value\n",
    "\n",
    "    def __init__(self, materials: set[str], effects: set[str]) -> None:\n",
    "        self.materials = materials\n",
    "        self.effects = effects\n",
    "        self.value = self.__value()\n"
   ]
  },
  {
   "cell_type": "markdown",
   "metadata": {},
   "source": [
    "Generate Recipes"
   ]
  },
  {
   "cell_type": "code",
   "execution_count": 10,
   "metadata": {},
   "outputs": [],
   "source": [
    "recipes_file = open(\"Recipes.csv\", \"w\")\n",
    "two_list = []\n",
    "three_list = []\n",
    "\n",
    "for i in range(len(material_list)):\n",
    "    for j in range(i+1, len(material_list)):\n",
    "        m1 = material_list[i]\n",
    "        m2 = material_list[j]\n",
    "        e1 = set(m1.effects)\n",
    "        e2 = set(m2.effects)\n",
    "        common_effect = e1 & e2\n",
    "        if len(common_effect) >= 2:\n",
    "            two_list.append(Recipe(set([m1.name, m2.name]), common_effect))\n",
    "\n",
    "for i in range(len(two_list)):\n",
    "    for j in range(i+1, len(two_list)):\n",
    "        recipe1 = two_list[i]\n",
    "        recipe2 = two_list[j]\n",
    "        common_materials = recipe1.materials & recipe2.materials\n",
    "        if len(common_materials) > 0:\n",
    "            three_list.append(Recipe(recipe1.materials | recipe2.materials, recipe1.effects | recipe2.effects))\n",
    "\n",
    "\n",
    "recipes_file.writelines([f\"\\\"{e.materials}\\\", \\\"{e.effects}\\\", {e.value}\\n\" for e in two_list])\n",
    "recipes_file.writelines([f\"\\\"{e.materials}\\\", \\\"{e.effects}\\\", {e.value}\\n\" for e in three_list])\n",
    "\n",
    "recipes_file.close()"
   ]
  }
 ],
 "metadata": {
  "kernelspec": {
   "display_name": "Python 3",
   "language": "python",
   "name": "python3"
  },
  "language_info": {
   "codemirror_mode": {
    "name": "ipython",
    "version": 3
   },
   "file_extension": ".py",
   "mimetype": "text/x-python",
   "name": "python",
   "nbconvert_exporter": "python",
   "pygments_lexer": "ipython3",
   "version": "3.10.12"
  }
 },
 "nbformat": 4,
 "nbformat_minor": 2
}
